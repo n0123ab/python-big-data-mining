{
 "cells": [
  {
   "cell_type": "code",
   "execution_count": null,
   "id": "71bde009",
   "metadata": {},
   "outputs": [],
   "source": [
    "# 数据库字段\n",
    "# user_id item_id category_id behavior_type timestamp datestamp  unique_id\n",
    "# behavior_type 行为类型，枚举类型，包括(pv点击, buy购买, cart购物车, fav收藏)"
   ]
  },
  {
   "cell_type": "code",
   "execution_count": null,
   "id": "596a51e9",
   "metadata": {},
   "outputs": [
    {
     "name": "stdout",
     "output_type": "stream",
     "text": [
      "1\n"
     ]
    }
   ],
   "source": [
    "import MySQLdb\n",
    "db = MySQLdb.connect(\n",
    "    host='localhost',\n",
    "    port=3306,\n",
    "    user='root',\n",
    "    passwd='root',\n",
    "    db='taobao_user_behavior',\n",
    "    charset='utf8'\n",
    ")\n",
    "cursor = db.cursor()\n",
    "\n",
    "def whitch_date_shop_max():\n",
    "    \"\"\"\n",
    "    查询每个日期下，商品被点击的次数最多的商品\n",
    "    :return: None\n",
    "    \"\"\"\n",
    "    sql = \"\"\"\n",
    "        SELECT datestamp, item_id, COUNT(*) AS count\n",
    "        FROM user_behavior\n",
    "        WHERE behavior_type = 'buy'\n",
    "        GROUP BY datestamp, item_id\n",
    "        ORDER BY datestamp, count DESC\n",
    "    \"\"\"\n",
    "    cursor.execute(sql)\n",
    "    results = cursor.fetchall()\n",
    "    \n",
    "    for row in results:\n",
    "        print(f\"Date: {row[0]}, Item ID: {row[1]}, Count: {row[2]}\")"
   ]
  }
 ],
 "metadata": {
  "kernelspec": {
   "display_name": "py311",
   "language": "python",
   "name": "python3"
  },
  "language_info": {
   "codemirror_mode": {
    "name": "ipython",
    "version": 3
   },
   "file_extension": ".py",
   "mimetype": "text/x-python",
   "name": "python",
   "nbconvert_exporter": "python",
   "pygments_lexer": "ipython3",
   "version": "3.11.13"
  }
 },
 "nbformat": 4,
 "nbformat_minor": 5
}
