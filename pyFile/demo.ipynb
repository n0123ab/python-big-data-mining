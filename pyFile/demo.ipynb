{
 "cells": [
  {
   "cell_type": "code",
   "execution_count": null,
   "id": "f90a5388",
   "metadata": {},
   "outputs": [
    {
     "name": "stdout",
     "output_type": "stream",
     "text": [
      "1000000000\n",
      "花费79.03390002250671秒\n"
     ]
    },
    {
     "ename": "AttributeError",
     "evalue": "module 'sys' has no attribute '_is_gil_enabled'",
     "output_type": "error",
     "traceback": [
      "\u001b[31m---------------------------------------------------------------------------\u001b[39m",
      "\u001b[31mAttributeError\u001b[39m                            Traceback (most recent call last)",
      "\u001b[36mCell\u001b[39m\u001b[36m \u001b[39m\u001b[32mIn[1]\u001b[39m\u001b[32m, line 24\u001b[39m\n\u001b[32m     20\u001b[39m     \u001b[38;5;28mprint\u001b[39m(add_func())\n\u001b[32m     21\u001b[39m     \u001b[38;5;28mprint\u001b[39m(\u001b[33mrf\u001b[39m\u001b[33m'\u001b[39m\u001b[33m花费\u001b[39m\u001b[38;5;132;01m{\u001b[39;00mtime.time()\u001b[38;5;250m \u001b[39m-\u001b[38;5;250m \u001b[39ms\u001b[38;5;132;01m}\u001b[39;00m\u001b[33m秒\u001b[39m\u001b[33m'\u001b[39m)\n\u001b[32m---> \u001b[39m\u001b[32m24\u001b[39m \u001b[38;5;28mprint\u001b[39m(sys._is_gil_enabled() )\n",
      "\u001b[31mAttributeError\u001b[39m: module 'sys' has no attribute '_is_gil_enabled'"
     ]
    }
   ],
   "source": [
    "import time\n",
    "import threading\n",
    "import sys\n",
    "def add_func(n: int =1):\n",
    "    a = 0\n",
    "    for j in range(int(1000000000/n) ):\n",
    "        a += 1\n",
    "    return a\n",
    "\n",
    "if __name__ == \"__main__\":\n",
    "    slice_n = 16\n",
    "    s = time.time()\n",
    "    threads = list()\n",
    "    for i in range(slice_n):\n",
    "        t = threading.Thread(target=add_func, args=(slice_n,))\n",
    "        threads.append(t)\n",
    "        t.start()\n",
    "    for t in threads:\n",
    "        t.join()\n",
    "    print(add_func())\n",
    "    print(rf'花费{time.time() - s}秒')"
   ]
  },
  {
   "cell_type": "code",
   "execution_count": null,
   "id": "ba5b73f8",
   "metadata": {},
   "outputs": [],
   "source": [
    "import threading\n",
    "import time\n",
    "\n",
    "def cpu_bound_task(num):\n",
    "    \"\"\"一个计算密集型任务\"\"\"\n",
    "    sum = 0\n",
    "    for i in range(num):\n",
    "        sum += i * i\n",
    "\n",
    "def main():\n",
    "    start_time = time.time()\n",
    "    \n",
    "    # 创建线程列表\n",
    "    threads = []\n",
    "    for _ in range(16):  # 创建8个线程\n",
    "        thread = threading.Thread(target=cpu_bound_task, args=(50000000,))\n",
    "        threads.append(thread)\n",
    "        thread.start()\n",
    "    \n",
    "    # 等待所有线程完成\n",
    "    for thread in threads:\n",
    "        thread.join()\n",
    "    \n",
    "    end_time = time.time()\n",
    "    print(cpu_bound_task)\n",
    "    print(f\"多线程执行时间：{end_time - start_time}秒\")\n",
    "\n",
    "if __name__ == \"__main__\":\n",
    "    main()"
   ]
  }
 ],
 "metadata": {
  "kernelspec": {
   "display_name": "py311",
   "language": "python",
   "name": "python3"
  },
  "language_info": {
   "codemirror_mode": {
    "name": "ipython",
    "version": 3
   },
   "file_extension": ".py",
   "mimetype": "text/x-python",
   "name": "python",
   "nbconvert_exporter": "python",
   "pygments_lexer": "ipython3",
   "version": "3.11.13"
  }
 },
 "nbformat": 4,
 "nbformat_minor": 5
}
